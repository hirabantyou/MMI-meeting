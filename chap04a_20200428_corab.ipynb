{
  "nbformat": 4,
  "nbformat_minor": 0,
  "metadata": {
    "colab": {
      "name": "benkyoukai20200428.ipynb",
      "provenance": [],
      "collapsed_sections": []
    },
    "kernelspec": {
      "name": "python3",
      "display_name": "Python 3"
    }
  },
  "cells": [
    {
      "cell_type": "code",
      "metadata": {
        "id": "4dx4ZxD1HxGe",
        "colab_type": "code",
        "colab": {
          "base_uri": "https://localhost:8080/",
          "height": 124
        },
        "outputId": "75c886c0-af10-48f5-df37-c87732f736e0"
      },
      "source": [
        "from google.colab import drive\n",
        "drive.mount('/content/drive')"
      ],
      "execution_count": 1,
      "outputs": [
        {
          "output_type": "stream",
          "text": [
            "Go to this URL in a browser: https://accounts.google.com/o/oauth2/auth?client_id=947318989803-6bn6qk8qdgf4n4g3pfee6491hc0brc4i.apps.googleusercontent.com&redirect_uri=urn%3aietf%3awg%3aoauth%3a2.0%3aoob&response_type=code&scope=email%20https%3a%2f%2fwww.googleapis.com%2fauth%2fdocs.test%20https%3a%2f%2fwww.googleapis.com%2fauth%2fdrive%20https%3a%2f%2fwww.googleapis.com%2fauth%2fdrive.photos.readonly%20https%3a%2f%2fwww.googleapis.com%2fauth%2fpeopleapi.readonly\n",
            "\n",
            "Enter your authorization code:\n",
            "··········\n",
            "Mounted at /content/drive\n"
          ],
          "name": "stdout"
        }
      ]
    },
    {
      "cell_type": "code",
      "metadata": {
        "id": "l0zggCtmJOvJ",
        "colab_type": "code",
        "colab": {
          "base_uri": "https://localhost:8080/",
          "height": 909
        },
        "outputId": "1808d39e-15c3-4341-e7cd-ef5a69eab91e"
      },
      "source": [
        "!pip install -U ginza\n",
        "import pkg_resources, imp\n",
        "imp.reload(pkg_resources)"
      ],
      "execution_count": 2,
      "outputs": [
        {
          "output_type": "stream",
          "text": [
            "Collecting ginza\n",
            "  Downloading https://files.pythonhosted.org/packages/93/43/43818861210c71a0a9f789e7350b785ba60bad38196745c2f8e88271dfa8/ginza-3.1.2.tar.gz\n",
            "Requirement already satisfied, skipping upgrade: spacy>=2.2.3 in /usr/local/lib/python3.6/dist-packages (from ginza) (2.2.4)\n",
            "Collecting ja_ginza<3.2.0,>=3.1.0\n",
            "\u001b[?25l  Downloading https://files.pythonhosted.org/packages/14/02/ad08f43df50c5d877a7b2dcd56f4ebf33a5818b517550516e8ba059069fa/ja_ginza-3.1.0.tar.gz (54.9MB)\n",
            "\u001b[K     |████████████████████████████████| 54.9MB 76kB/s \n",
            "\u001b[?25hCollecting SudachiPy>=0.4.2\n",
            "\u001b[?25l  Downloading https://files.pythonhosted.org/packages/9d/32/6a61a3ca4051583e14b70dd7b5da5af36aa8baea22feb9eafb1f920193e0/SudachiPy-0.4.4-py3-none-any.whl (73kB)\n",
            "\u001b[K     |████████████████████████████████| 81kB 10.4MB/s \n",
            "\u001b[?25hRequirement already satisfied, skipping upgrade: srsly<1.1.0,>=1.0.2 in /usr/local/lib/python3.6/dist-packages (from spacy>=2.2.3->ginza) (1.0.2)\n",
            "Requirement already satisfied, skipping upgrade: preshed<3.1.0,>=3.0.2 in /usr/local/lib/python3.6/dist-packages (from spacy>=2.2.3->ginza) (3.0.2)\n",
            "Requirement already satisfied, skipping upgrade: tqdm<5.0.0,>=4.38.0 in /usr/local/lib/python3.6/dist-packages (from spacy>=2.2.3->ginza) (4.38.0)\n",
            "Requirement already satisfied, skipping upgrade: murmurhash<1.1.0,>=0.28.0 in /usr/local/lib/python3.6/dist-packages (from spacy>=2.2.3->ginza) (1.0.2)\n",
            "Requirement already satisfied, skipping upgrade: cymem<2.1.0,>=2.0.2 in /usr/local/lib/python3.6/dist-packages (from spacy>=2.2.3->ginza) (2.0.3)\n",
            "Requirement already satisfied, skipping upgrade: blis<0.5.0,>=0.4.0 in /usr/local/lib/python3.6/dist-packages (from spacy>=2.2.3->ginza) (0.4.1)\n",
            "Requirement already satisfied, skipping upgrade: plac<1.2.0,>=0.9.6 in /usr/local/lib/python3.6/dist-packages (from spacy>=2.2.3->ginza) (1.1.3)\n",
            "Requirement already satisfied, skipping upgrade: requests<3.0.0,>=2.13.0 in /usr/local/lib/python3.6/dist-packages (from spacy>=2.2.3->ginza) (2.23.0)\n",
            "Requirement already satisfied, skipping upgrade: setuptools in /usr/local/lib/python3.6/dist-packages (from spacy>=2.2.3->ginza) (46.1.3)\n",
            "Requirement already satisfied, skipping upgrade: thinc==7.4.0 in /usr/local/lib/python3.6/dist-packages (from spacy>=2.2.3->ginza) (7.4.0)\n",
            "Requirement already satisfied, skipping upgrade: wasabi<1.1.0,>=0.4.0 in /usr/local/lib/python3.6/dist-packages (from spacy>=2.2.3->ginza) (0.6.0)\n",
            "Requirement already satisfied, skipping upgrade: catalogue<1.1.0,>=0.0.7 in /usr/local/lib/python3.6/dist-packages (from spacy>=2.2.3->ginza) (1.0.0)\n",
            "Requirement already satisfied, skipping upgrade: numpy>=1.15.0 in /usr/local/lib/python3.6/dist-packages (from spacy>=2.2.3->ginza) (1.18.3)\n",
            "Collecting ja_ginza_dict<3.2.0,>=3.1.0\n",
            "\u001b[?25l  Downloading https://files.pythonhosted.org/packages/e8/e5/c4ea3f165acb38fa125e992d1a6fcfb9a5a8ab6a14cc5010c836713c386b/ja_ginza_dict-3.1.0-1.tar.gz (44.8MB)\n",
            "\u001b[K     |████████████████████████████████| 44.8MB 97kB/s \n",
            "\u001b[?25hCollecting dartsclone~=0.9.0\n",
            "\u001b[?25l  Downloading https://files.pythonhosted.org/packages/6d/34/987a076369ed086ee953e2f0b9ab5ff3e1a682ba4f781678ac5648144896/dartsclone-0.9.0-cp36-cp36m-manylinux1_x86_64.whl (474kB)\n",
            "\u001b[K     |████████████████████████████████| 481kB 34.8MB/s \n",
            "\u001b[?25hRequirement already satisfied, skipping upgrade: sortedcontainers~=2.1.0 in /usr/local/lib/python3.6/dist-packages (from SudachiPy>=0.4.2->ginza) (2.1.0)\n",
            "Requirement already satisfied, skipping upgrade: idna<3,>=2.5 in /usr/local/lib/python3.6/dist-packages (from requests<3.0.0,>=2.13.0->spacy>=2.2.3->ginza) (2.9)\n",
            "Requirement already satisfied, skipping upgrade: chardet<4,>=3.0.2 in /usr/local/lib/python3.6/dist-packages (from requests<3.0.0,>=2.13.0->spacy>=2.2.3->ginza) (3.0.4)\n",
            "Requirement already satisfied, skipping upgrade: certifi>=2017.4.17 in /usr/local/lib/python3.6/dist-packages (from requests<3.0.0,>=2.13.0->spacy>=2.2.3->ginza) (2020.4.5.1)\n",
            "Requirement already satisfied, skipping upgrade: urllib3!=1.25.0,!=1.25.1,<1.26,>=1.21.1 in /usr/local/lib/python3.6/dist-packages (from requests<3.0.0,>=2.13.0->spacy>=2.2.3->ginza) (1.24.3)\n",
            "Requirement already satisfied, skipping upgrade: importlib-metadata>=0.20; python_version < \"3.8\" in /usr/local/lib/python3.6/dist-packages (from catalogue<1.1.0,>=0.0.7->spacy>=2.2.3->ginza) (1.6.0)\n",
            "Requirement already satisfied, skipping upgrade: Cython in /usr/local/lib/python3.6/dist-packages (from dartsclone~=0.9.0->SudachiPy>=0.4.2->ginza) (0.29.17)\n",
            "Requirement already satisfied, skipping upgrade: zipp>=0.5 in /usr/local/lib/python3.6/dist-packages (from importlib-metadata>=0.20; python_version < \"3.8\"->catalogue<1.1.0,>=0.0.7->spacy>=2.2.3->ginza) (3.1.0)\n",
            "Building wheels for collected packages: ginza, ja-ginza, ja-ginza-dict\n",
            "  Building wheel for ginza (setup.py) ... \u001b[?25l\u001b[?25hdone\n",
            "  Created wheel for ginza: filename=ginza-3.1.2-cp36-none-any.whl size=17311 sha256=c8b29b1855a58190c99f2105d33ff2f0afa71878a08e32a214abd1d62b473161\n",
            "  Stored in directory: /root/.cache/pip/wheels/70/8d/57/f089078acc0dbaebffc08c178e9f20924fa794c114ad36f7f7\n",
            "  Building wheel for ja-ginza (setup.py) ... \u001b[?25l\u001b[?25hdone\n",
            "  Created wheel for ja-ginza: filename=ja_ginza-3.1.0-cp36-none-any.whl size=54963619 sha256=60e250727ee2ecb798eb64d10d093dfc932d5871bb53b6d49d1902ffd1e4d8c6\n",
            "  Stored in directory: /root/.cache/pip/wheels/f2/8a/07/1837eeb5c5648fa8d266102b78a894e495234585ac3f024cf1\n",
            "  Building wheel for ja-ginza-dict (setup.py) ... \u001b[?25l\u001b[?25hdone\n",
            "  Created wheel for ja-ginza-dict: filename=ja_ginza_dict-3.1.0-cp36-none-any.whl size=70877544 sha256=afbf23966bedc1f1b92ccbd63ee3de81ebca65db66576f6ca1e02660a84fb62d\n",
            "  Stored in directory: /root/.cache/pip/wheels/30/88/d7/7f0692ba26060966af34538e1079438d16640c54e04a15a76a\n",
            "Successfully built ginza ja-ginza ja-ginza-dict\n",
            "Installing collected packages: ja-ginza-dict, ja-ginza, dartsclone, SudachiPy, ginza\n",
            "Successfully installed SudachiPy-0.4.4 dartsclone-0.9.0 ginza-3.1.2 ja-ginza-3.1.0 ja-ginza-dict-3.1.0\n"
          ],
          "name": "stdout"
        },
        {
          "output_type": "execute_result",
          "data": {
            "text/plain": [
              "<module 'pkg_resources' from '/usr/local/lib/python3.6/dist-packages/pkg_resources/__init__.py'>"
            ]
          },
          "metadata": {
            "tags": []
          },
          "execution_count": 2
        }
      ]
    },
    {
      "cell_type": "code",
      "metadata": {
        "id": "fC3rjM3-Jo3g",
        "colab_type": "code",
        "colab": {}
      },
      "source": [
        "import numpy as np\n",
        "import spacy\n",
        "nlp = spacy.load('ja_ginza')"
      ],
      "execution_count": 0,
      "outputs": []
    },
    {
      "cell_type": "code",
      "metadata": {
        "id": "2aFkQNGYJ3Gz",
        "colab_type": "code",
        "colab": {}
      },
      "source": [
        "Dpath = '/content/drive/My Drive/Resources/KNBC_v1.0_090925_utf8/corpus2/'\n",
        "topics = ['Gourmet', 'Keitai', 'Kyoto', 'Sports']"
      ],
      "execution_count": 0,
      "outputs": []
    },
    {
      "cell_type": "code",
      "metadata": {
        "id": "woZVLVGyKM_P",
        "colab_type": "code",
        "colab": {}
      },
      "source": [
        "import pandas as pd\n",
        "import re\n",
        "\n",
        "cols = ['doc', 'label']\n",
        "df = pd.DataFrame(index=[], columns=cols)\n",
        "p = re.compile(r'(［.*］)(.*)')\n",
        "\n",
        "for topic in topics:\n",
        "  data = pd.read_table(Dpath+topic+'.tsv', header=None, dtype=str, usecols=[1])\n",
        "  for d in data.itertuples():\n",
        "    m = p.match(d[1])\n",
        "    if m != None:  # first line of the document\n",
        "      if d[0] != 0:\n",
        "        df = df.append(pd.DataFrame([doc.strip(), topic], index = cols).T)\n",
        "      sent = m.groups()[1]\n",
        "      doc = ''\n",
        "    else:\n",
        "      sent = d[1]\n",
        "    #ここで形態素解析\n",
        "    doc = doc + ' ' +  ' '.join([t.text for t in nlp(sent)])\n",
        "  df = df.append(pd.DataFrame([doc.strip(), topic], index = cols).T)"
      ],
      "execution_count": 0,
      "outputs": []
    },
    {
      "cell_type": "code",
      "metadata": {
        "id": "SgAbcPJ1KWA5",
        "colab_type": "code",
        "colab": {
          "base_uri": "https://localhost:8080/",
          "height": 404
        },
        "outputId": "4ff0b9a7-6428-4562-f1ae-869df682df68"
      },
      "source": [
        "df"
      ],
      "execution_count": 6,
      "outputs": [
        {
          "output_type": "execute_result",
          "data": {
            "text/html": [
              "<div>\n",
              "<style scoped>\n",
              "    .dataframe tbody tr th:only-of-type {\n",
              "        vertical-align: middle;\n",
              "    }\n",
              "\n",
              "    .dataframe tbody tr th {\n",
              "        vertical-align: top;\n",
              "    }\n",
              "\n",
              "    .dataframe thead th {\n",
              "        text-align: right;\n",
              "    }\n",
              "</style>\n",
              "<table border=\"1\" class=\"dataframe\">\n",
              "  <thead>\n",
              "    <tr style=\"text-align: right;\">\n",
              "      <th></th>\n",
              "      <th>doc</th>\n",
              "      <th>label</th>\n",
              "    </tr>\n",
              "  </thead>\n",
              "  <tbody>\n",
              "    <tr>\n",
              "      <th>0</th>\n",
              "      <td>烏丸 六角 の おかき 屋 さん 六角堂 の 前 に ある 、 蕪村 庵 と いう お店 に...</td>\n",
              "      <td>Gourmet</td>\n",
              "    </tr>\n",
              "    <tr>\n",
              "      <th>0</th>\n",
              "      <td>河原町 の 居酒屋 この 間 先輩 たち に つれ られ 、 河原町 の 居酒屋 へ 行っ ...</td>\n",
              "      <td>Gourmet</td>\n",
              "    </tr>\n",
              "    <tr>\n",
              "      <th>0</th>\n",
              "      <td>ちょっと 贅沢 ほんの ちょこっと な ん だ けど 、 贅沢 し たい とき に 何 を ...</td>\n",
              "      <td>Gourmet</td>\n",
              "    </tr>\n",
              "    <tr>\n",
              "      <th>0</th>\n",
              "      <td>食欲 の 秋 最近 おなか が 減っ て 仕方 あり ませ ん か 。 仕方 あり ませ ん...</td>\n",
              "      <td>Gourmet</td>\n",
              "    </tr>\n",
              "    <tr>\n",
              "      <th>0</th>\n",
              "      <td>季節 限定 も のっ て … １０ 月 と いえ ば 秋 本番 で ある 。 栗 や 秋刀魚...</td>\n",
              "      <td>Gourmet</td>\n",
              "    </tr>\n",
              "    <tr>\n",
              "      <th>...</th>\n",
              "      <td>...</td>\n",
              "      <td>...</td>\n",
              "    </tr>\n",
              "    <tr>\n",
              "      <th>0</th>\n",
              "      <td>クライマックス シリーズ 今年 の 阪神 は なん やっ た ん や ！ ！ 初め 弱く て...</td>\n",
              "      <td>Sports</td>\n",
              "    </tr>\n",
              "    <tr>\n",
              "      <th>0</th>\n",
              "      <td>京都 サンガ に つい て この ブログ の 右側 に 検索 窓 ある じゃ ない です か...</td>\n",
              "      <td>Sports</td>\n",
              "    </tr>\n",
              "    <tr>\n",
              "      <th>0</th>\n",
              "      <td>サッカー から 伺える ルール と の 付き合い 方 私自身 は 全く の サッカー 素人 ...</td>\n",
              "      <td>Sports</td>\n",
              "    </tr>\n",
              "    <tr>\n",
              "      <th>0</th>\n",
              "      <td>する か 見る か スポーツ は する 派 です か ？ し たい 見る 派 です か ？ ...</td>\n",
              "      <td>Sports</td>\n",
              "    </tr>\n",
              "    <tr>\n",
              "      <th>0</th>\n",
              "      <td>運動 は 好き な ほう です 。 よく ドン くさい って 言わ れる けど 、 運動 神...</td>\n",
              "      <td>Sports</td>\n",
              "    </tr>\n",
              "  </tbody>\n",
              "</table>\n",
              "<p>249 rows × 2 columns</p>\n",
              "</div>"
            ],
            "text/plain": [
              "                                                  doc    label\n",
              "0   烏丸 六角 の おかき 屋 さん 六角堂 の 前 に ある 、 蕪村 庵 と いう お店 に...  Gourmet\n",
              "0   河原町 の 居酒屋 この 間 先輩 たち に つれ られ 、 河原町 の 居酒屋 へ 行っ ...  Gourmet\n",
              "0   ちょっと 贅沢 ほんの ちょこっと な ん だ けど 、 贅沢 し たい とき に 何 を ...  Gourmet\n",
              "0   食欲 の 秋 最近 おなか が 減っ て 仕方 あり ませ ん か 。 仕方 あり ませ ん...  Gourmet\n",
              "0   季節 限定 も のっ て … １０ 月 と いえ ば 秋 本番 で ある 。 栗 や 秋刀魚...  Gourmet\n",
              "..                                                ...      ...\n",
              "0   クライマックス シリーズ 今年 の 阪神 は なん やっ た ん や ！ ！ 初め 弱く て...   Sports\n",
              "0   京都 サンガ に つい て この ブログ の 右側 に 検索 窓 ある じゃ ない です か...   Sports\n",
              "0   サッカー から 伺える ルール と の 付き合い 方 私自身 は 全く の サッカー 素人 ...   Sports\n",
              "0   する か 見る か スポーツ は する 派 です か ？ し たい 見る 派 です か ？ ...   Sports\n",
              "0   運動 は 好き な ほう です 。 よく ドン くさい って 言わ れる けど 、 運動 神...   Sports\n",
              "\n",
              "[249 rows x 2 columns]"
            ]
          },
          "metadata": {
            "tags": []
          },
          "execution_count": 6
        }
      ]
    },
    {
      "cell_type": "code",
      "metadata": {
        "id": "lwBCjzJ5gcDs",
        "colab_type": "code",
        "colab": {
          "base_uri": "https://localhost:8080/",
          "height": 86
        },
        "outputId": "d0a50777-b705-402e-d9b3-a74b5b3e2135"
      },
      "source": [
        "df.index"
      ],
      "execution_count": 7,
      "outputs": [
        {
          "output_type": "execute_result",
          "data": {
            "text/plain": [
              "Int64Index([0, 0, 0, 0, 0, 0, 0, 0, 0, 0,\n",
              "            ...\n",
              "            0, 0, 0, 0, 0, 0, 0, 0, 0, 0],\n",
              "           dtype='int64', length=249)"
            ]
          },
          "metadata": {
            "tags": []
          },
          "execution_count": 7
        }
      ]
    },
    {
      "cell_type": "code",
      "metadata": {
        "id": "-GEG5NqQx-yK",
        "colab_type": "code",
        "colab": {}
      },
      "source": [
        "from sklearn.model_selection import train_test_split"
      ],
      "execution_count": 0,
      "outputs": []
    },
    {
      "cell_type": "code",
      "metadata": {
        "id": "ApM5JOGbyF8D",
        "colab_type": "code",
        "colab": {}
      },
      "source": [
        "df_train, df_test = train_test_split(df, test_size=0.3)"
      ],
      "execution_count": 0,
      "outputs": []
    },
    {
      "cell_type": "code",
      "metadata": {
        "id": "geWKJ_FT5_IA",
        "colab_type": "code",
        "colab": {}
      },
      "source": [
        "from sklearn.feature_extraction.text import TfidfVectorizer\n",
        "#from sklearn.multiclass import OneVsRestClassifier\n",
        "from sklearn import linear_model\n",
        "from sklearn.svm import SVC\n",
        "from sklearn.metrics import (roc_curve, auc, accuracy_score)\n",
        "from sklearn.feature_extraction.text import CountVectorizer\n",
        "\n",
        "svm_model = SVC(kernel='sigmoid', random_state=None)\n",
        "\n",
        "#BOWへの変換\n",
        "count = CountVectorizer()\n",
        "train_X = count.fit_transform(df_train['doc']).toarray().astype(np.float64)\n",
        "test_X = count.transform(df_test['doc']).toarray().astype(np.float64)\n",
        "\n",
        "\n",
        "#TF-IDFベクトルへの変換　\n",
        "#tf_idf = TfidfVectorizer(use_idf=True)\n",
        "#train_X = tf_idf.fit_transform(df_train['doc']).toarray().astype(np.float64)\n",
        "#test_X = tf_idf.transform(df_test['doc']).toarray().astype(np.float64)"
      ],
      "execution_count": 0,
      "outputs": []
    },
    {
      "cell_type": "code",
      "metadata": {
        "id": "flsRssxQ8slq",
        "colab_type": "code",
        "colab": {}
      },
      "source": [
        "train_labels = df_train['label']\n",
        "test_labels = df_test['label']"
      ],
      "execution_count": 0,
      "outputs": []
    },
    {
      "cell_type": "code",
      "metadata": {
        "id": "Oa7nTlkaAIfV",
        "colab_type": "code",
        "colab": {
          "base_uri": "https://localhost:8080/",
          "height": 34
        },
        "outputId": "b1f43480-4907-4dad-e206-8803c173a545"
      },
      "source": [
        "#単純ベイズ、ロジステック回帰ok、オンラインSVMによって文書分類を行う\n",
        "\n",
        "from sklearn.naive_bayes import BernoulliNB\n",
        "clf = BernoulliNB()\n",
        "clf.fit(train_X, train_labels)"
      ],
      "execution_count": 43,
      "outputs": [
        {
          "output_type": "execute_result",
          "data": {
            "text/plain": [
              "BernoulliNB(alpha=1.0, binarize=0.0, class_prior=None, fit_prior=True)"
            ]
          },
          "metadata": {
            "tags": []
          },
          "execution_count": 43
        }
      ]
    },
    {
      "cell_type": "code",
      "metadata": {
        "id": "IPkSRUT7BFUu",
        "colab_type": "code",
        "colab": {
          "base_uri": "https://localhost:8080/",
          "height": 34
        },
        "outputId": "dd8facfc-b878-416c-a981-0c0386771018"
      },
      "source": [
        "# ナイーブベイズでの結果\n",
        "test_predict = clf.predict(test_X)\n",
        "print(\"accuracy = \"+str(accuracy_score(test_predict, test_labels)))"
      ],
      "execution_count": 44,
      "outputs": [
        {
          "output_type": "stream",
          "text": [
            "accuracy = 0.6933333333333334\n"
          ],
          "name": "stdout"
        }
      ]
    },
    {
      "cell_type": "code",
      "metadata": {
        "id": "g2Wsc2OGBLVk",
        "colab_type": "code",
        "colab": {
          "base_uri": "https://localhost:8080/",
          "height": 104
        },
        "outputId": "50e52a21-3a90-4fc7-eeb6-89ebe7f1ca55"
      },
      "source": [
        "# ロジスティック回帰\n",
        "from sklearn.linear_model import LogisticRegression\n",
        "lr = LogisticRegression() # ロジスティック回帰モデルのインスタンスを作成\n",
        "lr.fit(train_X, train_labels) # ロジスティック回帰モデルの重みを学習"
      ],
      "execution_count": 45,
      "outputs": [
        {
          "output_type": "execute_result",
          "data": {
            "text/plain": [
              "LogisticRegression(C=1.0, class_weight=None, dual=False, fit_intercept=True,\n",
              "                   intercept_scaling=1, l1_ratio=None, max_iter=100,\n",
              "                   multi_class='auto', n_jobs=None, penalty='l2',\n",
              "                   random_state=None, solver='lbfgs', tol=0.0001, verbose=0,\n",
              "                   warm_start=False)"
            ]
          },
          "metadata": {
            "tags": []
          },
          "execution_count": 45
        }
      ]
    },
    {
      "cell_type": "code",
      "metadata": {
        "id": "wHuRt3PK_nmP",
        "colab_type": "code",
        "colab": {
          "base_uri": "https://localhost:8080/",
          "height": 34
        },
        "outputId": "871cba92-d1e5-4960-c83f-f2045e385d53"
      },
      "source": [
        "# ロジスティック回帰での結果\n",
        "test_predict = lr.predict(test_X)\n",
        "print(\"accuracy = \"+str(accuracy_score(test_predict, test_labels)))"
      ],
      "execution_count": 46,
      "outputs": [
        {
          "output_type": "stream",
          "text": [
            "accuracy = 0.8666666666666667\n"
          ],
          "name": "stdout"
        }
      ]
    },
    {
      "cell_type": "code",
      "metadata": {
        "id": "oNOgXl5C_prW",
        "colab_type": "code",
        "colab": {
          "base_uri": "https://localhost:8080/",
          "height": 121
        },
        "outputId": "e6cffb83-3c5a-4b16-dea8-78f7f4099278"
      },
      "source": [
        "# bow・SVCで学習\n",
        "svm_model = linear_model.SGDClassifier(loss = 'hinge')\n",
        "svm_model.fit(train_X, train_labels)"
      ],
      "execution_count": 47,
      "outputs": [
        {
          "output_type": "execute_result",
          "data": {
            "text/plain": [
              "SGDClassifier(alpha=0.0001, average=False, class_weight=None,\n",
              "              early_stopping=False, epsilon=0.1, eta0=0.0, fit_intercept=True,\n",
              "              l1_ratio=0.15, learning_rate='optimal', loss='hinge',\n",
              "              max_iter=1000, n_iter_no_change=5, n_jobs=None, penalty='l2',\n",
              "              power_t=0.5, random_state=None, shuffle=True, tol=0.001,\n",
              "              validation_fraction=0.1, verbose=0, warm_start=False)"
            ]
          },
          "metadata": {
            "tags": []
          },
          "execution_count": 47
        }
      ]
    },
    {
      "cell_type": "code",
      "metadata": {
        "id": "taLV9y9w_vrU",
        "colab_type": "code",
        "colab": {
          "base_uri": "https://localhost:8080/",
          "height": 34
        },
        "outputId": "9fa55464-2fc5-465f-9868-350571ebcc83"
      },
      "source": [
        "# BOW・SVCでの結果\n",
        "test_predict = svm_model.predict(test_X)\n",
        "print(\"accuracy = \"+str(accuracy_score(test_predict, test_labels)))"
      ],
      "execution_count": 48,
      "outputs": [
        {
          "output_type": "stream",
          "text": [
            "accuracy = 0.88\n"
          ],
          "name": "stdout"
        }
      ]
    },
    {
      "cell_type": "code",
      "metadata": {
        "id": "gNa6C0oX_zL0",
        "colab_type": "code",
        "colab": {}
      },
      "source": [
        ""
      ],
      "execution_count": 0,
      "outputs": []
    }
  ]
}